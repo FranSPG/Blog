{
 "cells": [
  {
   "cell_type": "code",
   "execution_count": 1,
   "metadata": {},
   "outputs": [],
   "source": [
    "from sympy import *\n",
    "import numpy as np"
   ]
  },
  {
   "cell_type": "code",
   "execution_count": 2,
   "metadata": {},
   "outputs": [],
   "source": [
    "x = Symbol('x')"
   ]
  },
  {
   "cell_type": "code",
   "execution_count": 3,
   "metadata": {},
   "outputs": [],
   "source": [
    "f = (x**x) - 100"
   ]
  },
  {
   "cell_type": "code",
   "execution_count": 4,
   "metadata": {},
   "outputs": [],
   "source": [
    "def f_x(f, x):\n",
    "    return f.replace('x', x)"
   ]
  },
  {
   "cell_type": "code",
   "execution_count": 5,
   "metadata": {},
   "outputs": [],
   "source": [
    "def df(f):\n",
    "    return f.diff()"
   ]
  },
  {
   "cell_type": "code",
   "execution_count": 6,
   "metadata": {},
   "outputs": [],
   "source": [
    "fprime = df(f)"
   ]
  },
  {
   "cell_type": "code",
   "execution_count": 7,
   "metadata": {},
   "outputs": [
    {
     "data": {
      "text/plain": [
       "x**x*(log(x) + 1)"
      ]
     },
     "execution_count": 7,
     "metadata": {},
     "output_type": "execute_result"
    }
   ],
   "source": [
    "fprime"
   ]
  },
  {
   "cell_type": "code",
   "execution_count": 8,
   "metadata": {},
   "outputs": [],
   "source": [
    "def newtons_method(f, fprime, xn, eps, iteration):\n",
    "    # Parámetros:\n",
    "    # f : es la función\n",
    "    # fprime : es la derivada de nuestra función\n",
    "    # xn : es el valor o aproximación\n",
    "    # eps : nos va a dar una toleracia de error\n",
    "    # iteración : es un contador de iteraciones\n",
    "    \n",
    "    # Calculamos nuestro primer valor que le pasamos por xn\n",
    "    # f_value va a tomar distintos valores a medida que se llama recursivamente a la función\n",
    "    \n",
    "    # f_x(f, xn) es una función donde le pasamos por parámetro la función (f) y el valor con el que\n",
    "    # queremos reemplazar la x (en este caso xn) y nos retorna el resultado\n",
    "    f_value = f_x(f, xn)\n",
    "    \n",
    "    if ((abs(f_value) > eps) and (iteration < 100)):\n",
    "        \n",
    "        try:\n",
    "            # x_new Aplicamos nuestra formula y calculamos una nueva aproximación\n",
    "            x_new = (xn - float((f_x(f, xn))) / float(f_x(fprime, xn)))\n",
    "            \n",
    "            # Llamamos recursivamente a la función pasandole los mismos parámetros, excepto que cambiamos xn por\n",
    "            # nuestra nueva aproximación x_new y sumamos 1 a la iteración\n",
    "            newtons_method(f, fprime, x_new, eps, iteration+1)\n",
    "            \n",
    "        \n",
    "            # capturamos la expcepción de dividir por 0\n",
    "        except ZeroDivisionError:\n",
    "            print(\"Error! - derivative zero\")\n",
    "            \n",
    "    else:\n",
    "        \n",
    "        # Mostramos el resultado\n",
    "        print(\"\\nf : {}\\nfprime : {}\\nxn : {}\\neps : {}\\niteration : {}\".format(f, fprime, xn, eps, iteration))"
   ]
  },
  {
   "cell_type": "code",
   "execution_count": 9,
   "metadata": {},
   "outputs": [
    {
     "name": "stdout",
     "output_type": "stream",
     "text": [
      "\n",
      "f : x**x - 100\n",
      "fprime : x**x*(log(x) + 1)\n",
      "xn : 3.5972850235406395\n",
      "eps : 1e-06\n",
      "iteration : 46\n"
     ]
    }
   ],
   "source": [
    "newtons_method(f, fprime, 2, 1.0e-6, 0)"
   ]
  },
  {
   "cell_type": "code",
   "execution_count": null,
   "metadata": {},
   "outputs": [],
   "source": []
  }
 ],
 "metadata": {
  "kernelspec": {
   "display_name": "Python 3",
   "language": "python",
   "name": "python3"
  },
  "language_info": {
   "codemirror_mode": {
    "name": "ipython",
    "version": 3
   },
   "file_extension": ".py",
   "mimetype": "text/x-python",
   "name": "python",
   "nbconvert_exporter": "python",
   "pygments_lexer": "ipython3",
   "version": "3.7.1"
  }
 },
 "nbformat": 4,
 "nbformat_minor": 2
}
