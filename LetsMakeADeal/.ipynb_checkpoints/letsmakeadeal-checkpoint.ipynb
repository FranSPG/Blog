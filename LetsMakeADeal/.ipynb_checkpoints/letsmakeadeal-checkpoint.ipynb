{
 "cells": [
  {
   "cell_type": "code",
   "execution_count": 46,
   "metadata": {},
   "outputs": [],
   "source": [
    "import numpy as np\n",
    "from tqdm import tqdm\n",
    "import time"
   ]
  },
  {
   "cell_type": "code",
   "execution_count": 14,
   "metadata": {},
   "outputs": [],
   "source": [
    "def no_change():\n",
    "    \n",
    "    # Doors\n",
    "    doors = [False, False, False]\n",
    "\n",
    "    # Generate one winner door randomly\n",
    "    winner_door = np.random.randint(0, 3)\n",
    "    doors[winner_door] = True\n",
    "\n",
    "    # Select one door randomly\n",
    "    selected_door = np.random.randint(0, 3)\n",
    "    \n",
    "    # Just cheecking if the selected door is the winner door\n",
    "    if(winner_door == selected_door):\n",
    "        rst = True\n",
    "    else:\n",
    "        rst = False\n",
    "        \n",
    "    #print(\"Selected door: {}\\t Winning door: {}\\t Result: {}\\n\".format(selected_door, selected_door, rst))\n",
    "    \n",
    "    return rst"
   ]
  },
  {
   "cell_type": "code",
   "execution_count": 62,
   "metadata": {},
   "outputs": [],
   "source": [
    "def change():\n",
    "    \n",
    "    # Doors\n",
    "    doors = [False, False, False]\n",
    "\n",
    "    # Generate one winner door randomly\n",
    "    winner_door = np.random.randint(0, 3)\n",
    "    doors[winner_door] = True\n",
    "\n",
    "    # Select one door randomly\n",
    "    selected_door = np.random.randint(0, 3)\n",
    "    \n",
    "    # Searching the remaining door to show\n",
    "    for x in range(0, 3):\n",
    "        \n",
    "        if (doors[x] == True):\n",
    "            pass\n",
    "        else:\n",
    "            if (x != selected_door):\n",
    "                door_shown = x\n",
    "    \n",
    "    # Changing the first selection \n",
    "    for x in range(0, 3):\n",
    "        if (x == door_shown):\n",
    "            pass\n",
    "        else:\n",
    "            if(x != selected_door):\n",
    "                new_door = x\n",
    "\n",
    "    # Just cheecking if the selected door is the winner door\n",
    "    if(winner_door == new_door):\n",
    "        rst = True\n",
    "    else:\n",
    "        rst = False\n",
    "        \n",
    "    #print(\"Selected door: {}\\t Door shown: {}\\tNew door: {}\\t Winning door: {}\\t Result: {}\\n\".format(selected_door, door_shown, new_door, winner_door, rst))\n",
    "    \n",
    "    return rst"
   ]
  },
  {
   "cell_type": "code",
   "execution_count": 51,
   "metadata": {},
   "outputs": [
    {
     "name": "stderr",
     "output_type": "stream",
     "text": [
      "100%|██████████| 100/100 [01:00<00:00,  1.74it/s]\n"
     ]
    }
   ],
   "source": [
    "no_change_mean = np.array([])\n",
    "for x in tqdm(range(100)):\n",
    "    no_change_rst = []\n",
    "    for i in range(200000):\n",
    "        no_change_rst.append(no_change())\n",
    "    \n",
    "    no_change_rst = sum(no_change_rst)\n",
    "    no_change_mean = np.append(no_change_mean, no_change_rst)\n"
   ]
  },
  {
   "cell_type": "code",
   "execution_count": 56,
   "metadata": {},
   "outputs": [
    {
     "name": "stderr",
     "output_type": "stream",
     "text": [
      "100%|██████████| 100/100 [00:08<00:00, 12.50it/s]\n"
     ]
    }
   ],
   "source": [
    "change_mean = np.array([])\n",
    "for x in tqdm(range(100)):\n",
    "    change_rst = []\n",
    "    for i in range(20000):\n",
    "        change_rst.append(change())\n",
    "    \n",
    "    change_rst = sum(change_rst)\n",
    "    change_mean = np.append(change_mean, change_rst)\n"
   ]
  },
  {
   "cell_type": "code",
   "execution_count": 60,
   "metadata": {},
   "outputs": [
    {
     "name": "stdout",
     "output_type": "stream",
     "text": [
      "Mean of winning rounds in 200000 with no change of doors: 66668.84\n",
      "\n",
      "Clearly we can see that 200000 * (1/3) = 66666.666 is very closely to the result\n",
      "\n"
     ]
    }
   ],
   "source": [
    "print(\"Mean of winning rounds in 200000 with no change of doors: {}\\n\".format(np.mean(no_change_mean)))\n",
    "\n",
    "print(\"Clearly we can see that 200000 * (1/3) = 66666.666 is very closely to the result\\n\")"
   ]
  },
  {
   "cell_type": "code",
   "execution_count": 61,
   "metadata": {},
   "outputs": [
    {
     "name": "stdout",
     "output_type": "stream",
     "text": [
      "Mean of winning rounds in 200000 with change of doors: 13334.61\n",
      "\n",
      "Clearly we can see that 200000 * (2/3) = 133333.333 is very closely to the result\n",
      "\n"
     ]
    }
   ],
   "source": [
    "print(\"Mean of winning rounds in 200000 with change of doors: {}\\n\".format(np.mean(change_mean)))\n",
    "\n",
    "print(\"Clearly we can see that 200000 * (2/3) = 133333.333 is very closely to the result\\n\")"
   ]
  },
  {
   "cell_type": "code",
   "execution_count": null,
   "metadata": {},
   "outputs": [],
   "source": []
  }
 ],
 "metadata": {
  "kernelspec": {
   "display_name": "Python 3",
   "language": "python",
   "name": "python3"
  },
  "language_info": {
   "codemirror_mode": {
    "name": "ipython",
    "version": 3
   },
   "file_extension": ".py",
   "mimetype": "text/x-python",
   "name": "python",
   "nbconvert_exporter": "python",
   "pygments_lexer": "ipython3",
   "version": "3.7.0"
  }
 },
 "nbformat": 4,
 "nbformat_minor": 2
}
