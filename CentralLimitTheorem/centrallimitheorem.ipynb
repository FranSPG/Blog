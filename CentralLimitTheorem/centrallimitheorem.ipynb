{
 "cells": [
  {
   "cell_type": "code",
   "execution_count": 61,
   "metadata": {},
   "outputs": [],
   "source": [
    "import numpy as np\n",
    "import matplotlib.pyplot as plt\n",
    "import random\n",
    "\n",
    "from scipy.stats import kurtosis, skew\n",
    "\n",
    "import seaborn as sns\n",
    "sns.set_style('darkgrid')\n",
    "sns.set(rc={'figure.figsize':(11.7,8.27)})"
   ]
  },
  {
   "cell_type": "code",
   "execution_count": 15,
   "metadata": {},
   "outputs": [],
   "source": [
    "def unique_count(random_array, show = True):\n",
    "    \"\"\"\n",
    "    This function count the times that a value appears in an array\n",
    "    and prints it.\n",
    "    \"\"\"\n",
    "    \n",
    "    unique, counts = np.unique(random_array, return_counts=True)\n",
    "    \n",
    "    if show:\n",
    "        for x, y in zip(unique, counts):\n",
    "            print(\"Number: {}\\tCount: {}\".format(x, y))\n",
    "        \n",
    "    return unique, counts"
   ]
  },
  {
   "cell_type": "code",
   "execution_count": 53,
   "metadata": {},
   "outputs": [],
   "source": [
    "def central_limit(random_arr):\n",
    "    \"\"\"\n",
    "    This function takes an array of random numbers and takes 1000 samples randomly and then added all together to display an histogram.\n",
    "    This is a simulation of the central limit theorem.\n",
    "    \"\"\"\n",
    "    samples = [np.sum(random.choices(random_arr, k=50)) for _ in range(1000) ]\n",
    "    \n",
    "    \n",
    "    unique, _ = unique_count(samples, show=False)\n",
    "    f, ax = plt.subplots(figsize=(11.7,8.27))\n",
    "    sns.distplot(samples, kde=False)\n",
    "    plt.savefig('centrallimittheorem.png')\n",
    "    plt.show()\n",
    "    "
   ]
  },
  {
   "cell_type": "code",
   "execution_count": 62,
   "metadata": {},
   "outputs": [],
   "source": [
    "random_numbers_chisquare = np.random.chisquare(2, size=100000)\n",
    "random_numbers_chisquare = random_numbers_chisquare.astype(int)\n",
    "random_integers = np.random.randint(low=0, high=11, size=100000)"
   ]
  }
 ],
 "metadata": {
  "kernelspec": {
   "display_name": "Python 3",
   "language": "python",
   "name": "python3"
  },
  "language_info": {
   "codemirror_mode": {
    "name": "ipython",
    "version": 3
   },
   "file_extension": ".py",
   "mimetype": "text/x-python",
   "name": "python",
   "nbconvert_exporter": "python",
   "pygments_lexer": "ipython3",
   "version": "3.7.1"
  }
 },
 "nbformat": 4,
 "nbformat_minor": 2
}
