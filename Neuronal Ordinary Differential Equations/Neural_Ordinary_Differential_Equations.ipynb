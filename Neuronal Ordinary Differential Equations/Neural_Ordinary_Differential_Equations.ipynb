{
 "cells": [
  {
   "cell_type": "markdown",
   "metadata": {
    "colab_type": "text",
    "id": "5ceapqznYomj"
   },
   "source": [
    "# Neural Ordinary Differential Equations\n",
    "\n",
    "## Summary\n",
    "\n",
    "NeurIPS is the largest AI conference in the world. 4,854 papers were submitted. 4 received \"Best paper\" award. This is one of them. The basic idea is that neural networks are made up of stacked layers of simple computation nodes that work together to approximate a function. If we re-frame a neural network as an \"Ordinary Differential Equation\", we can use existing ODE solvers (like Euler's method) to approximate a function. This means no discrete layers, instead the network is a continous function. No more specifying the # of layers beforehand, instead specify the desired accuracy, it will learn how to train itself within that margin of error. It's still early stages, but this could be as big a breakthrough as GANs! \n",
    "\n",
    "![alt text](https://betterexplained.com/wp-content/uploads/2017/03/discrete-vs-continuous-growth.png)\n",
    "\n",
    "## Demo \n",
    "An ODENet approximated this spiral function better than a Recurrent Network. \n",
    "\n",
    "![alt text](https://cdn-images-1.medium.com/max/1600/1*y4YDA2Q25omrfuMuv3YnXA.png)\n",
    "\n",
    "\n",
    "## Why Does this matter? \n",
    "\n",
    "1. Faster testing time than recurrent networks, but slower training time. Perfect for low power edge computing! (precision vs speed)\n",
    "2. More accurate results for time series predictions (!!) i.e continous-time models\n",
    "3. Opens up a whole new realm of mathematics for optimizing neural networks (Diff Equation Solvers, 100+ years of theory)\n",
    "4, Compute gradients with constant memory cost\n",
    "\n",
    "\n",
    "## Concepts we'll learn about in this video\n",
    "1. Basic neural network theory\n",
    "2. \"Residual\" neural network theory\n",
    "3. Ordinary Differential Equations (ODEs)\n",
    "4. ODE Networks\n",
    "5. Euler's Method to Optimize an ODENet\n",
    "6. Adjoint Method for ODENet Optimization\n",
    "7. ODENet's Applied to time series data\n",
    "8. Future Applications of ODENets\n"
   ]
  },
  {
   "cell_type": "markdown",
   "metadata": {
    "colab_type": "text",
    "id": "3wiokAO2RJyF"
   },
   "source": [
    "\n",
    "\n",
    "\n",
    "\n"
   ]
  },
  {
   "cell_type": "markdown",
   "metadata": {
    "colab_type": "text",
    "id": "qIlMUskCSA2Q"
   },
   "source": [
    "## 1 Basic Neural Network Theory\n",
    "\n",
    "-  Neural Networks are a popular type of ML model\n",
    "- Neural Networks are built with linear algebra (matrices & matrix operations) & optimized using Calculus (gradient descent & other algorithms)\n",
    "- Neural networks consist of a series of \"layers\", which are just matrix operations\n",
    "- Each layer introduces a little bit of error that compounds through the network\n",
    "\n",
    "#### Basic Neural Network Diagram \n",
    "![alt text](https://www.researchgate.net/publication/299474560/figure/fig6/AS:349583008911366@1460358492284/An-example-of-a-deep-neural-network-with-two-hidden-layers-The-first-layer-is-the-input.png)\n",
    "\n",
    "#### More Detailed Neural Network Diagram\n",
    "![alt text](https://www.intechopen.com/media/chapter/759/media/image11.jpeg)"
   ]
  },
  {
   "cell_type": "markdown",
   "metadata": {
    "colab_type": "text",
    "id": "lheUH8Hh4qBN"
   },
   "source": [
    "## Basic Neural Network Example"
   ]
  },
  {
   "cell_type": "code",
   "execution_count": 1,
   "metadata": {
    "colab": {
     "base_uri": "https://localhost:8080/",
     "height": 106
    },
    "colab_type": "code",
    "id": "bhKidD1YSDOM",
    "outputId": "4e6b39f8-a51d-4591-f652-5dd29085f593"
   },
   "outputs": [
    {
     "name": "stdout",
     "output_type": "stream",
     "text": [
      "Output After Training:\n",
      "[[0.00505119]\n",
      " [0.00505119]\n",
      " [0.99494905]\n",
      " [0.99494905]]\n"
     ]
    }
   ],
   "source": [
    "import numpy as np\n",
    "\n",
    "# compute sigmoid nonlinearity\n",
    "def sigmoid(x):\n",
    "    output = 1/(1+np.exp(-x))\n",
    "    return output\n",
    "\n",
    "# convert output of sigmoid function to its derivative\n",
    "def sigmoid_output_to_derivative(output):\n",
    "    return output*(1-output)\n",
    "    \n",
    "# input dataset\n",
    "X = np.array([  [0,1],\n",
    "                [0,1],\n",
    "                [1,0],\n",
    "                [1,0] ])\n",
    "    \n",
    "# output dataset            \n",
    "y = np.array([[0,0,1,1]]).T\n",
    "\n",
    "# seed random numbers to make calculation\n",
    "# deterministic (just a good practice)\n",
    "np.random.seed(1)\n",
    "\n",
    "# initialize weights randomly with mean 0\n",
    "synapse_0 = 2*np.random.random((2,1)) - 1\n",
    "\n",
    "for iter in range(10000):\n",
    "\n",
    "    # forward propagation\n",
    "    layer_0 = X\n",
    "    layer_1 = sigmoid(np.dot(layer_0,synapse_0))\n",
    "\n",
    "    # how much did we miss?\n",
    "    layer_1_error = layer_1 - y\n",
    "\n",
    "    # multiply how much we missed by the \n",
    "    # slope of the sigmoid at the values in l1\n",
    "    layer_1_delta = layer_1_error * sigmoid_output_to_derivative(layer_1)\n",
    "    synapse_0_derivative = np.dot(layer_0.T,layer_1_delta)\n",
    "\n",
    "    # update weights\n",
    "    synapse_0 -= synapse_0_derivative\n",
    "\n",
    "print(\"Output After Training:\")\n",
    "print(layer_1)\n"
   ]
  },
  {
   "cell_type": "markdown",
   "metadata": {
    "colab_type": "text",
    "id": "t8wkkYvbU32u"
   },
   "source": [
    "## Stack More Layers?\n",
    "\n",
    "- To reduce compounded error, add more layers! \n",
    "\n",
    "![alt text](http://www.ccri.com/wp-content/uploads/2017/05/stackMoreLayers.png)\n",
    "\n",
    "![alt text](https://cdn-images-1.medium.com/max/1600/1*EVy3hNSF4Nq7v7bNYOyNcQ.png)\n",
    "\n",
    "- The # of layers & # of neurons deeply affec the output of the network\n",
    "- Too few layers could cause underfitting\n",
    "- Too many layers coudl cause overfitting + long training time\n",
    " \n",
    " ![alt text](https://cdn-images-1.medium.com/max/1125/1*_7OPgojau8hkiPUiHoGK_w.png)\n",
    "\n",
    "#### There are many rule-of-thumb methods for determining the correct number of neurons to use in the hidden layers, such as the following:\n",
    "\n",
    "- The number of hidden neurons should be between the size of the input layer and the size of the output layer.\n",
    "- The number of hidden neurons should be 2/3 the size of the input layer, plus the size of the output layer.\n",
    "- The number of hidden neurons should be less than twice the size of the input layer"
   ]
  },
  {
   "cell_type": "markdown",
   "metadata": {
    "colab_type": "text",
    "id": "HASZaNUw7EKU"
   },
   "source": [
    "## Example: Long-Short Term Memory Neural Network with many layers"
   ]
  },
  {
   "cell_type": "code",
   "execution_count": 2,
   "metadata": {
    "colab": {},
    "colab_type": "code",
    "id": "0bARtloGVdvF"
   },
   "outputs": [
    {
     "name": "stderr",
     "output_type": "stream",
     "text": [
      "Using TensorFlow backend.\n"
     ]
    },
    {
     "name": "stdout",
     "output_type": "stream",
     "text": [
      "WARNING:tensorflow:From D:\\Program Files (x86)\\Anaconda\\lib\\site-packages\\tensorflow\\python\\framework\\op_def_library.py:263: colocate_with (from tensorflow.python.framework.ops) is deprecated and will be removed in a future version.\n",
      "Instructions for updating:\n",
      "Colocations handled automatically by placer.\n",
      "WARNING:tensorflow:From D:\\Program Files (x86)\\Anaconda\\lib\\site-packages\\tensorflow\\python\\ops\\math_ops.py:3066: to_int32 (from tensorflow.python.ops.math_ops) is deprecated and will be removed in a future version.\n",
      "Instructions for updating:\n",
      "Use tf.cast instead.\n",
      "Train on 1000 samples, validate on 100 samples\n",
      "Epoch 1/5\n",
      "1000/1000 [==============================] - 4s 4ms/step - loss: 11.5911 - acc: 0.0770 - val_loss: 11.3207 - val_acc: 0.0800\n",
      "Epoch 2/5\n",
      "1000/1000 [==============================] - 0s 153us/step - loss: 11.5892 - acc: 0.0990 - val_loss: 11.3187 - val_acc: 0.1500\n",
      "Epoch 3/5\n",
      "1000/1000 [==============================] - 0s 150us/step - loss: 11.5882 - acc: 0.1140 - val_loss: 11.3221 - val_acc: 0.1200\n",
      "Epoch 4/5\n",
      "1000/1000 [==============================] - 0s 153us/step - loss: 11.5886 - acc: 0.0960 - val_loss: 11.3205 - val_acc: 0.1100\n",
      "Epoch 5/5\n",
      "1000/1000 [==============================] - 0s 152us/step - loss: 11.5879 - acc: 0.0970 - val_loss: 11.3195 - val_acc: 0.1500\n"
     ]
    },
    {
     "data": {
      "text/plain": [
       "<keras.callbacks.History at 0x212c5cd5390>"
      ]
     },
     "execution_count": 2,
     "metadata": {},
     "output_type": "execute_result"
    }
   ],
   "source": [
    "\n",
    "from keras.models import Sequential\n",
    "from keras.layers import LSTM, Dense\n",
    "import numpy as np\n",
    "\n",
    "data_dim = 16\n",
    "timesteps = 8\n",
    "num_classes = 10\n",
    "\n",
    "# expected input data shape: (batch_size, timesteps, data_dim)\n",
    "model = Sequential()\n",
    "model.add(LSTM(32, return_sequences=True,\n",
    "               input_shape=(timesteps, data_dim)))  # returns a sequence of vectors of dimension 32\n",
    "model.add(LSTM(32, return_sequences=True))  # returns a sequence of vectors of dimension 32\n",
    "model.add(LSTM(32))  # return a single vector of dimension 32\n",
    "\n",
    "\n",
    "\n",
    "model.add(Dense(10, activation='softmax'))\n",
    "\n",
    "model.compile(loss='categorical_crossentropy',\n",
    "              optimizer='rmsprop',\n",
    "              metrics=['accuracy'])\n",
    "\n",
    "# Generate dummy training data\n",
    "x_train = np.random.random((1000, timesteps, data_dim))\n",
    "y_train = np.random.random((1000, num_classes))\n",
    "\n",
    "# Generate dummy validation data\n",
    "x_val = np.random.random((100, timesteps, data_dim))\n",
    "y_val = np.random.random((100, num_classes))\n",
    "\n",
    "model.fit(x_train, y_train,\n",
    "          batch_size=64, epochs=5,\n",
    "          validation_data=(x_val, y_val))"
   ]
  },
  {
   "cell_type": "markdown",
   "metadata": {
    "colab_type": "text",
    "id": "Hfbs_m7PWrUm"
   },
   "source": [
    "## 2 Residual Neural Network Theory\n",
    "\n",
    "A solution to this was proposed by Microsoft for the 2015 ImageNet competiton (residual networks)\n",
    "- In December of  2015, Microsoft proposed \"Residual networks\" as a solution to the ImageNet Classification Competition\n",
    "- ResNets had the best accuracy in the competition\n",
    "- ResNets utilize \"skip-connections\" between layers, which increases accuracy.\n",
    "- They were able to train networks of up to 1000 layers deep while avoiding vanishing gradients (lower accuracy)\n",
    "- 6 months later, their publicatio already had more than 200 references.\n",
    "\n",
    "\n",
    "![alt text](https://cdn-images-1.medium.com/max/800/1*Io-I-fOM0jGftDb_nne4KQ.png)\n",
    "\n",
    "![alt text](https://image.slidesharecdn.com/deepresiduallearningforimagerecognition-160427174252/95/paper-overview-deep-residual-learning-for-image-recognition-26-638.jpg?cb=1461779162)\n",
    "\n",
    "![alt text](https://image.slidesharecdn.com/deepresiduallearningforimagerecognition-160427174252/95/paper-overview-deep-residual-learning-for-image-recognition-29-638.jpg?cb=1461779162)\n",
    "\n",
    "### How do ResNets work?\n",
    "\n",
    "- Instead of hoping each stack of layers directly fits a desired underlying mapping, we explicitly let these layers fit a residual mapping. \n",
    "- The original mapping is recast into F(x)+x. \n",
    "- Residual neural networks do this by utilizing skip connections or short-cuts to jump over some layers. \n",
    "- The residual layer adds the output of the activation function to the input of the layer.\n",
    "- This seemingly minor change has led to a rethinking of how neural network layers are designed.\n",
    "- In its limit as ResNets it will only skip over a single layer\n",
    "- With an additional weight matrix to learn the skip weights it is referred to as HighwayNets\n",
    "- With several parallel skips it is referred to as DenseNets\n",
    "\n",
    "\n",
    "The residual layer is actually quite simple: add the output of the activation function to the original input to the layer. As a formula, the k+1th layer has the formula:\n",
    "\n",
    "\\begin{equation} x_{k+1} = x_{k} + F(x_{k})\\end{equation}\n",
    "\n",
    "where F is the function of the kth layer and its activation. For example, F might represent a convolutional layer with a relu activation. This simple formula is a special case of the formula:\n",
    "\n",
    "\\begin{equation} x_{k+1} = x_{k} + h F(x_k),\\end{equation}\n",
    "\n",
    "which is the formula for the Euler method for solving ordinary differential equations (ODEs) when h=1\n",
    "\n",
    "### Wait, WTF is Euler's method? What does differential equations have to do with anything? Hold that thought, look at this code first.\n",
    "\n"
   ]
  },
  {
   "cell_type": "code",
   "execution_count": 8,
   "metadata": {
    "colab": {},
    "colab_type": "code",
    "id": "auyfL0RBBa_C"
   },
   "outputs": [],
   "source": [
    "#normal convolutional layer \n",
    "\n",
    "def Unit(x,filters):\n",
    "\n",
    "    out = BatchNormalization()(x)\n",
    "    out = Activation(\"relu\")(out)\n",
    "    out = Conv2D(filters=filters, kernel_size=[3, 3], strides=[1, 1], padding=\"same\")(out)\n",
    "\n",
    "    out = BatchNormalization()(out)\n",
    "    out = Activation(\"relu\")(out)\n",
    "    out = Conv2D(filters=filters, kernel_size=[3, 3], strides=[1, 1], padding=\"same\")(out)\n",
    "\n",
    "    return out"
   ]
  },
  {
   "cell_type": "code",
   "execution_count": 9,
   "metadata": {
    "colab": {},
    "colab_type": "code",
    "id": "xUUXshvvBdim"
   },
   "outputs": [],
   "source": [
    "#residual convolutional layer\n",
    "\n",
    "def Unit(x,filters):\n",
    "    res = x\n",
    "    out = BatchNormalization()(x)\n",
    "    out = Activation(\"relu\")(out)\n",
    "    out = Conv2D(filters=filters, kernel_size=[3, 3], strides=[1, 1], padding=\"same\")(out)\n",
    "\n",
    "    out = BatchNormalization()(out)\n",
    "    out = Activation(\"relu\")(out)\n",
    "    out = Conv2D(filters=filters, kernel_size=[3, 3], strides=[1, 1], padding=\"same\")(out)\n",
    "\n",
    "    out = keras.layers.add([res,out]) \n",
    "\n",
    "    return out"
   ]
  },
  {
   "cell_type": "markdown",
   "metadata": {
    "colab_type": "text",
    "id": "jQqw9srmBQwA"
   },
   "source": [
    "\n",
    "### Awesome, ok back to the question. What is the significance between residual networks and Ordinary Differential Equations? \n",
    "\n",
    "## 3 Ordinary Differential Equations\n",
    "\n",
    "- A \"differential equation\" is an equation that just tells us the slope without specifying the original function whose derivative we are taking\n",
    "\n",
    "![alt text](http://hyperphysics.phy-astr.gsu.edu/hbase/Math/immath/derint.gif)\n",
    "\n",
    "![alt text](http://adit.io/imgs/derivatives/power_rule_examples.png)\n",
    "\n",
    "![alt text](https://images.slideplayer.com/37/10734112/slides/slide_6.jpg)\n",
    "\n",
    "![alt text](https://revisionworld.com/sites/revisionworld.com/files/imce/differential.gif)\n",
    "\n",
    "![alt text](https://internal.ncl.ac.uk/ask/numeracy-maths-statistics/images/Calculus.png)\n",
    "\n",
    "![alt text](https://www.mathsisfun.com/calculus/images/integrals-vs-derivative.svg )\n"
   ]
  },
  {
   "cell_type": "markdown",
   "metadata": {
    "colab_type": "text",
    "id": "aniJJUqACeKg"
   },
   "source": [
    "### Example Differential Equation "
   ]
  },
  {
   "cell_type": "code",
   "execution_count": 27,
   "metadata": {
    "colab": {
     "base_uri": "https://localhost:8080/",
     "height": 361
    },
    "colab_type": "code",
    "id": "d1oTAMYFCYgF",
    "outputId": "2e3038d1-8c41-40df-95ad-17ef18df37cf"
   },
   "outputs": [],
   "source": [
    "import numpy as np\n",
    "from scipy.integrate import odeint\n",
    "import matplotlib.pyplot as plt\n",
    "\n",
    "# function dy/dx = x + y/5.\n",
    "func = lambda y,x : x + y/5."
   ]
  },
  {
   "cell_type": "code",
   "execution_count": 36,
   "metadata": {
    "colab": {
     "base_uri": "https://localhost:8080/",
     "height": 361
    },
    "colab_type": "code",
    "id": "d1oTAMYFCYgF",
    "outputId": "2e3038d1-8c41-40df-95ad-17ef18df37cf"
   },
   "outputs": [],
   "source": [
    "# Initial condition\n",
    "y0 = -3  # at x=0\n",
    "# values at which to compute the solution (needs to start at x=0)\n",
    "x = np.linspace(0, 4, 101)"
   ]
  },
  {
   "cell_type": "code",
   "execution_count": 38,
   "metadata": {
    "colab": {
     "base_uri": "https://localhost:8080/",
     "height": 361
    },
    "colab_type": "code",
    "id": "d1oTAMYFCYgF",
    "outputId": "2e3038d1-8c41-40df-95ad-17ef18df37cf"
   },
   "outputs": [
    {
     "data": {
      "image/png": "[encoded data removed]",
      "text/plain": [
       "<Figure size 432x288 with 1 Axes>"
      ]
     },
     "metadata": {
      "needs_background": "light"
     },
     "output_type": "display_data"
    }
   ],
   "source": [
    "# solution\n",
    "y = odeint(func, y0, x)\n",
    "# plot the solution, note that y is a column vector\n",
    "plt.plot(x, y[:,0])\n",
    "plt.xlabel('x')\n",
    "plt.ylabel('y')\n",
    "plt.show()"
   ]
  },
  {
   "cell_type": "markdown",
   "metadata": {
    "colab_type": "text",
    "id": "Z2DbYdsRCdDq"
   },
   "source": [
    "## 4 ODE (Ordinary Differential Equation) Networks\n",
    "\n",
    "\n",
    "Consider a simplified ODE from physics: we want to model the position x of a marble. Assume we can calculate its velocity x′ (the derivative of position) at any position x. We know that the marble starts at rest x(0)=0 and that its velocity at time t depends on its position through the formula:\n",
    "\n",
    "\\begin{equation} x^\\prime(t) = f(x) \\end{equation}\n",
    "\n",
    "The Euler method solves this problem by following the physical intuition: my position at a time very close to the present depends on my current velocity and position. For example, if you are travelling at a velocity of 5 meters per second, and you travel 1 second, your position changes by 5 meters. If we travel h seconds, we will have travelled 5h meters. As a formula, we said:\n",
    "\n",
    "\\begin{equation}x(t+h) = x(t) + h x^\\prime(t),\\end{equation}\n",
    "\n",
    "but since we know\n",
    "\n",
    "\\begin{equation} x^\\prime(t) = f(x) \\end{equation}\n",
    "\n",
    "we can rewrite this as\n",
    "\n",
    "\\begin{equation} x(t+h) = x(t) + h f(x).\\end{equation}\n",
    "\n",
    "If you squint at this formula for the Euler method, you can see it looks just like the formula for residual layers!\n",
    "\n",
    "This observation has meant three things for designing neural networks:\n",
    "\n",
    "- New neural network layers can be created through different numerical approaches to solving ODEs\n",
    "- The possibility of arbitrarily deep neural networks\n",
    "- Training of a deep network can be improved by considering the so-called stability of the underlying ODE and its numerical discretization\n",
    "\n",
    "### 2 more points\n",
    "\n",
    "- To create arbitrarily deep networks with a finite memory footprint, design neural networks based on stable ODEs and numerical discretizations.\n",
    "- Gradient descent can be viewed as applying Euler's method for solving ordinary differential equation to gradient flow.  \n",
    "\n",
    "![alt text](https://wikimedia.org/api/rest_v1/media/math/render/svg/f7efd24e9cf34508df8d402a5b9801290acb2afc)\n"
   ]
  },
  {
   "cell_type": "markdown",
   "metadata": {
    "colab_type": "text",
    "id": "AqolUsWEnrh1"
   },
   "source": [
    "\n",
    "\n",
    "## What Does an ODENet Look like? \n",
    "\n",
    "*An ODE is a function that usually describes the change of some system through time. In this setting, time is a continuous variable. Now imagine a neural network is that system, and time is really something more like the depth of the network. Note that there are usually a discrete number of layers in an ANN. This is a notion of continuous number of layers.*\n",
    "\n",
    "- The team didn't use Euler's method, they computed the exact ODE solution (within a small error tolerance) using adaptive solvers (faster)\n",
    "- The dynamics change smoothly with depth. You can think of this either as having weights that are a function of depth, or as having shared weights across layers but adding the depth as an extra input to f.\n",
    "- Anywhere you can put a resnet you can put an ODEnet.\n",
    "- Each ODEBlock can be used to replace a whole stack of ResBlocks.\n",
    "- In their MNIST example, each ODEBlock replaces 6 ResBlocks.\n",
    "\n",
    "### Traditional Deep Nets\n",
    "\n",
    "\n",
    "```\n",
    "h1 = f1(x)\n",
    "h2 = f2(h1)\n",
    "h3 = f3(h2)\n",
    "h4 = f3(h3)\n",
    "y  = f5(h4)\n",
    "```\n",
    "\n",
    "### ResNets\n",
    "\n",
    "```\n",
    "h1 = f1(x)  + x\n",
    "h2 = f2(h1) + h1\n",
    "h3 = f3(h2) + h2\n",
    "h4 = f4(h3) + h3\n",
    "y  = f5(h4) + h4\n",
    "```\n",
    "\n",
    "\n",
    "- Where f1, f2, etc are neural net layers.\n",
    "- The idea is that it's easier to model a small change to an almost-correct answer than to output the whole improved answer at once.\n",
    "-This looks like a primitive ODE solver (Euler's method) that solves the trajectory of a system by just taking small steps in the direction of the system dynamics and adding them up.\n",
    "-They connection allows for better training methods.\n",
    "- What if we define a deep net as a continuously evolving system? \n",
    "- Instead of updating the hidden units layer by layer, we define their derivative with respect to depth instead\n",
    "- We can use off-the-shelf adaptive ODE solvers to compute the final state of these dynamics, and call that the output of the neural network. \n",
    "\n",
    "## 5 Euler's Method \n",
    "\n",
    "![alt text](https://upload.wikimedia.org/wikipedia/commons/thumb/1/10/Euler_method.svg/412px-Euler_method.svg.png)\n",
    "\n",
    "\n",
    "- We want to recover the blue curve, but all we have is an initial point A_0 (think inputs to the network) and a differential equation.\n",
    "- From the differential equation, we can calculate the tangent line. If we take a small step along the tangent line, we arrive at A_1, which will be close to the desired blue line if the step is small enough. \n",
    "- Repeat this process to uncover a polygonal curve A_{0}A_{1}A_{2}...A_{n}.\n",
    "\n",
    "Many neural networks have a composition that looks exactly like the steps of Euler’s method. We start with an initial state \\mathbf{z}_0, and apply successive transformations over time (layers):\n",
    "\n",
    "![alt text](https://s0.wp.com/latex.php?latex=%5Cmathbf%7Bz%7D_1+%3D+%5Cmathbf%7Bz%7D_0+%2B+f%28%5Cmathbf%7Bz%7D_0%2C+%5Ctheta_%7B0%7D%29&bg=ffffff&fg=333333&s=0)\n",
    "\n",
    "![alt text](https://s0.wp.com/latex.php?latex=%5Cmathbf%7Bz%7D_2+%3D+%5Cmathbf%7Bz%7D_1+%2B+f%28%5Cmathbf%7Bz%7D_1%2C+%5Ctheta_%7B1%7D%29&bg=ffffff&fg=333333&s=0)\n",
    "\n",
    "![alt text](https://s0.wp.com/latex.php?latex=%5Cmathbf%7Bz%7D_3+%3D+%5Cmathbf%7Bz%7D_2+%2B+f%28%5Cmathbf%7Bz%7D_2%2C+%5Ctheta_%7B2%7D%29&bg=ffffff&fg=333333&s=0)\n",
    "\n",
    "…\n",
    "\n",
    "![alt text](https://s0.wp.com/latex.php?latex=%5Cmathbf%7Bz%7D_%7Bt%2B1%7D+%3D+%5Cmathbf%7Bz%7D_t+%2B+f%28%5Cmathbf%7Bz%7D_t%2C+%5Ctheta_%7Bt%7D%29&bg=ffffff&fg=333333&s=0)\n",
    "\n",
    "\n",
    "### In the limit, we parameterize the continuous dynamics of hidden units using an ordinary differential equation (ODE) specified by a neural network:\n",
    "\n",
    "![alt text](https://s0.wp.com/latex.php?latex=%5Cdisplaystyle+%5Cfrac%7Bd%5Cmathbf%7Bz%7D%28t%29%7D%7Bdt%7D+%3D+f%28%5Cmathbf%7Bz%7D%28t%29%2C+t%2C+%5Ctheta%29&bg=ffffff&fg=333333&s=0\n",
    ")\n",
    "\n",
    "### The equivalent of having T layers in the network, is finding the solution to this ODE at time T.\n",
    "\n",
    "![alt text](https://adriancolyer.files.wordpress.com/2019/01/NODEs-Fig-1.jpeg?w=480)\n",
    "\n",
    "- Euler’s method is perhaps the simplest method for solving ODEs. \n",
    "- There since been more than 120 years of development of efficient and accurate ODE solvers. \n",
    "- Modern ODE solvers provide guarantees about the growth of approximation error, monitor the level of error, and adapt their evaluation strategy on the fly to achieve the requested level of accuracy. \n",
    "- This allows the cost of evaluating a model to scale with problem complexity.\n",
    "\n",
    "\n",
    "### We’ve seen how to feed-forward, but how do you efficiently train a network defined as a differential equation? The answer lies in the adjoint method (which dates back to 1962). Think of the adjoint as the instantaneous analog of the chain rule.\n",
    "\n",
    "## 6 The Adjoint Method\n",
    "\n",
    "- This approach computes gradients by solving a second, augmented ODE backwards in time, and is applicable to all ODE solvers. \n",
    "- This approach scales linearly with problem size, has low memory cost, and explicitly controls numerical error.\n",
    "- The adjoint captures how the loss function L changes with respect to the hidden state.\n",
    "- Starting from the output of the network, we can recompute the hidden state backwards in time together with the adjoint.\n",
    "\n",
    "\n",
    "![alt text](https://adriancolyer.files.wordpress.com/2019/01/NODEs-Fig-2.jpeg?w=480)\n",
    "\n",
    "- A third integral then tells us how the loss changes with the parameters \\theta ( dL/d\\theta).\n",
    "- All three of these integrals can be computed in a single call to an ODE solver, which concatenates the original state, the adjoint, and the other partial derivatives into a single vector. \n",
    "- Algorithm 1 shows how to construct the necessary dynamics, and call an ODE solver to compute all gradients at once.\n",
    "\n",
    "![alt text](https://adriancolyer.files.wordpress.com/2019/01/NODEs-Alg-1.jpeg?w=640)\n",
    "\n",
    "\n"
   ]
  },
  {
   "cell_type": "markdown",
   "metadata": {
    "colab_type": "text",
    "id": "BV2evfTpMCo-"
   },
   "source": [
    "## ODE Net Example"
   ]
  },
  {
   "cell_type": "code",
   "execution_count": 1,
   "metadata": {},
   "outputs": [],
   "source": [
    "import os\n",
    "import argparse\n",
    "import logging\n",
    "import time\n",
    "import numpy as np\n",
    "import torch\n",
    "import torch.nn as nn\n",
    "from torch.utils.data import DataLoader\n",
    "import torchvision.datasets as datasets\n",
    "import torchvision.transforms as transforms"
   ]
  },
  {
   "cell_type": "code",
   "execution_count": 2,
   "metadata": {
    "colab": {
     "base_uri": "https://localhost:8080/",
     "height": 317
    },
    "colab_type": "code",
    "id": "Jx1aVJHqqRLv",
    "outputId": "2cd9a555-cf13-4a48-e59c-939c8c837dc3"
   },
   "outputs": [
    {
     "ename": "NameError",
     "evalue": "name 'x' is not defined",
     "output_type": "error",
     "traceback": [
      "\u001b[1;31m---------------------------------------------------------------------------\u001b[0m",
      "\u001b[1;31mNameError\u001b[0m                                 Traceback (most recent call last)",
      "\u001b[1;32m<ipython-input-2-f1e2bf7db905>\u001b[0m in \u001b[0;36m<module>\u001b[1;34m\u001b[0m\n\u001b[0;32m    126\u001b[0m     \u001b[0moptimizer\u001b[0m \u001b[1;33m=\u001b[0m \u001b[0mtorch\u001b[0m\u001b[1;33m.\u001b[0m\u001b[0moptim\u001b[0m\u001b[1;33m.\u001b[0m\u001b[0mSGD\u001b[0m\u001b[1;33m(\u001b[0m\u001b[0mmodel\u001b[0m\u001b[1;33m.\u001b[0m\u001b[0mparameters\u001b[0m\u001b[1;33m(\u001b[0m\u001b[1;33m)\u001b[0m\u001b[1;33m,\u001b[0m \u001b[0mlr\u001b[0m\u001b[1;33m=\u001b[0m\u001b[1;36m0.1\u001b[0m\u001b[1;33m,\u001b[0m \u001b[0mmomentum\u001b[0m\u001b[1;33m=\u001b[0m\u001b[1;36m0.9\u001b[0m\u001b[1;33m)\u001b[0m\u001b[1;33m\u001b[0m\u001b[1;33m\u001b[0m\u001b[0m\n\u001b[0;32m    127\u001b[0m \u001b[1;33m\u001b[0m\u001b[0m\n\u001b[1;32m--> 128\u001b[1;33m     \u001b[0mbatches_per_epoch\u001b[0m \u001b[1;33m=\u001b[0m \u001b[0mlen\u001b[0m\u001b[1;33m(\u001b[0m\u001b[0mx\u001b[0m\u001b[1;33m)\u001b[0m\u001b[1;33m\u001b[0m\u001b[1;33m\u001b[0m\u001b[0m\n\u001b[0m\u001b[0;32m    129\u001b[0m     \u001b[1;31m#Training Loop\u001b[0m\u001b[1;33m\u001b[0m\u001b[1;33m\u001b[0m\u001b[1;33m\u001b[0m\u001b[0m\n\u001b[0;32m    130\u001b[0m     \u001b[1;32mfor\u001b[0m \u001b[0mitr\u001b[0m \u001b[1;32min\u001b[0m \u001b[0mrange\u001b[0m\u001b[1;33m(\u001b[0m\u001b[1;36m160\u001b[0m \u001b[1;33m*\u001b[0m \u001b[0mbatches_per_epoch\u001b[0m\u001b[1;33m)\u001b[0m\u001b[1;33m:\u001b[0m\u001b[1;33m\u001b[0m\u001b[1;33m\u001b[0m\u001b[0m\n",
      "\u001b[1;31mNameError\u001b[0m: name 'x' is not defined"
     ]
    }
   ],
   "source": [
    "## Import the Adjoint Method (ODE Solver)\n",
    "from torchdiffeq import odeint_adjoint as odeint\n",
    "import torch\n",
    "import torch.nn as nn\n",
    "## Normal Residual Block Example\n",
    "def conv3x3(in_planes, out_planes, stride=1):\n",
    "    \"\"\"3x3 convolution with padding\"\"\"\n",
    "    return nn.Conv2d(in_planes, out_planes, kernel_size=3, stride=stride, padding=1, bias=False)\n",
    "\n",
    "def conv1x1(in_planes, out_planes, stride=1):\n",
    "    \"\"\"1x1 convolution\"\"\"\n",
    "    return nn.Conv2d(in_planes, out_planes, kernel_size=1, stride=stride, bias=False)\n",
    "\n",
    "def norm(dim):\n",
    "    return nn.GroupNorm(min(32, dim), dim)\n",
    "\n",
    "\n",
    "class Flatten(nn.Module):\n",
    "\n",
    "    def __init__(self):\n",
    "        super(Flatten, self).__init__()\n",
    "\n",
    "    def forward(self, x):\n",
    "        shape = torch.prod(torch.tensor(x.shape[1:])).item()\n",
    "        return x.view(-1, shape)\n",
    "class ResBlock(nn.Module):\n",
    "\n",
    "    #init a block - Convolve, pool, activate, repeat\n",
    "    def __init__(self, inplanes, planes, stride=1, downsample=None):\n",
    "        super(ResBlock, self).__init__()\n",
    "        self.norm1 = norm(inplanes)\n",
    "        self.relu = nn.ReLU(inplace=True)\n",
    "        self.downsample = downsample\n",
    "        self.conv1 = conv3x3(inplanes, planes, stride)\n",
    "        self.norm2 = norm(planes)\n",
    "        self.conv2 = conv3x3(planes, planes)\n",
    "\n",
    "    #Forward pass - pass output of one layer to the input of the next \n",
    "    def forward(self, x):\n",
    "        shortcut = x\n",
    "        out = self.relu(self.norm1(x))\n",
    "        out = self.conv1(out)\n",
    "        out = self.norm2(out)\n",
    "        out = self.relu(out)\n",
    "        out = self.conv2(out)\n",
    "\n",
    "        return out + shortcut\n",
    "\n",
    "## Ordinary Differential Equation Definition     \n",
    "\n",
    "class ODEfunc(nn.Module):\n",
    "\n",
    "    # init ODE variables\n",
    "    def __init__(self, dim):\n",
    "        super(ODEfunc, self).__init__()\n",
    "        self.norm1 = norm(dim)\n",
    "        self.relu = nn.ReLU(inplace=True)\n",
    "        self.conv1 = conv3x3(dim, dim)\n",
    "        self.norm2 = norm(dim)\n",
    "        self.conv2 = conv3x3(dim, dim)\n",
    "        self.norm3 = norm(dim)\n",
    "        self.nfe = 0\n",
    "\n",
    "    # init ODE operations \n",
    "    def forward(self, t, x):\n",
    "      #nfe = number of function evaluations per timestep\n",
    "        self.nfe += 1\n",
    "        out = self.norm1(x)\n",
    "        out = self.relu(out)\n",
    "        out = self.conv1(out)\n",
    "        out = self.norm2(out)\n",
    "        out = self.relu(out)\n",
    "        out = self.conv2(out)\n",
    "        out = self.norm3(out)\n",
    "        return out\n",
    "\n",
    "\n",
    " ## ODE block\n",
    "class ODEBlock(nn.Module):\n",
    "\n",
    "    #initialized as an ODE Function\n",
    "    #count the time\n",
    "    def __init__(self, odefunc):\n",
    "        super(ODEBlock, self).__init__()\n",
    "        self.odefunc = odefunc\n",
    "        self.integration_time = torch.tensor([0, 1]).float()\n",
    "\n",
    "    #foorward pass \n",
    "    #input the ODE function and input data into the ODE Solver (adjoint method)\n",
    "    # to compute a forward pass\n",
    "    def forward(self, x):\n",
    "        self.integration_time = self.integration_time.type_as(x)\n",
    "        out = odeint(self.odefunc, x, self.integration_time, rtol=args.tol, atol=args.tol)\n",
    "        return out[1]\n",
    "\n",
    "    @property\n",
    "    def nfe(self):\n",
    "        return self.odefunc.nfe\n",
    "\n",
    "    @nfe.setter\n",
    "    def nfe(self, value):\n",
    "        self.odefunc.nfe = value\n",
    "\n",
    "## Main Method\n",
    "\n",
    "if __name__ == '__main__':\n",
    "\n",
    "\n",
    "    device = torch.device('cpu')\n",
    "    #Add Pooling\n",
    "    downsampling_layers = [\n",
    "         nn.Conv2d(1, 64, 3, 1),\n",
    "         ResBlock(64, 64, stride=2, downsample=conv1x1(64, 64, 2)),\n",
    "         ResBlock(64, 64, stride=2, downsample=conv1x1(64, 64, 2)),\n",
    "     ]\n",
    "    \n",
    "    # Initialize the network as 1 ODE Block\n",
    "    feature_layers = [ODEBlock(ODEfunc(64))] \n",
    "    # Fully connected Layer at the end\n",
    "    fc_layers = [norm(64), nn.ReLU(inplace=True), nn.AdaptiveAvgPool2d((1, 1)), Flatten(), nn.Linear(64, 10)]\n",
    "  \n",
    "    #The Model consists of an ODE Block, pooling, and a fully connected block at the end\n",
    "    model = nn.Sequential(*downsampling_layers, *feature_layers, *fc_layers).to(device)\n",
    "\n",
    "    #Declare Gradient Descent Optimizer\n",
    "    optimizer = torch.optim.SGD(model.parameters(), lr=0.1, momentum=0.9)\n",
    "\n",
    "    batches_per_epoch = len(x)\n",
    "    #Training Loop\n",
    "    for itr in range(160 * batches_per_epoch):\n",
    "\n",
    "        \n",
    "        #init the optimizer\n",
    "        optimizer.zero_grad()\n",
    "        \n",
    "        #Generate training data\n",
    "        x, y = data_gen()\n",
    "        #Input Training data to model, get Prediction\n",
    "        logits = model(x)\n",
    "        #Compute Error using Prediction vs Actual Label\n",
    "        loss = CrossEntropyLoss(logits, y)\n",
    "        \n",
    "        #Backpropagate\n",
    "        loss.backward()\n",
    "        optimizer.step()"
   ]
  },
  {
   "cell_type": "markdown",
   "metadata": {
    "colab_type": "text",
    "id": "9i-Rc0agBazT"
   },
   "source": [
    "## Closing Summary  of Neural Ordinary Differential Equations\n",
    "\n",
    "- A neural network is a popular type of machine learning model\n",
    "- Neural Networks are built with linear algebra and optimized using Calculus\n",
    "\n",
    "- Neural networks consist of a series of \"layers\", which are just matrix operations\n",
    "- Each layer introduces a little bit of error that compounds through the network\n",
    "- The way to reduce that error is to add more and more layers \n",
    "- The problem is that we see a drop off in performance after a certain # of layers\n",
    "- A solution to this was proposed by Microsoft for the 2015 ImageNet competiton (residual networks)\n",
    "- Residual Networks connect the output of previous layers to the output of new layers\n",
    "- Prof. Duvenaud's team at University of Toronto noticed that that ResNets are similar to a primative \"Ordinary Differential Equation\" Solver called \"Euler's Method\"\n",
    "- Ordinary Differential Equations involve one or more ordinary derivatives of unkown functions. 1 independent variable.\n",
    "- Partial Differential Equations involve one or more partial derivatives of unknown functions. 2 or more independnet variables.\n",
    "- Eulers method is a numerical method to sovle 1st order differential equations \n",
    "- More efficient than Eulers method is the adjoint method. And this acts as our optimization strategy\n",
    "- The result? No need to specificy # of layers beforehand, now just specifiy accuracy. it will train itself. \n",
    "- No more discrete layers, instead a continous computational block\n",
    "\n",
    "Applications\n",
    "-Irregular time series data (medical history recorded at random times) , discrete layers are bad at this\n",
    "-Memory Efficiency (constant memory), slower training time, faster test time, \n",
    "\n"
   ]
  },
  {
   "cell_type": "code",
   "execution_count": null,
   "metadata": {},
   "outputs": [],
   "source": []
  }
 ],
 "metadata": {
  "colab": {
   "collapsed_sections": [],
   "name": "Neural Ordinary Differential Equations",
   "provenance": [],
   "version": "0.3.2"
  },
  "kernelspec": {
   "display_name": "Python 3",
   "language": "python",
   "name": "python3"
  },
  "language_info": {
   "codemirror_mode": {
    "name": "ipython",
    "version": 3
   },
   "file_extension": ".py",
   "mimetype": "text/x-python",
   "name": "python",
   "nbconvert_exporter": "python",
   "pygments_lexer": "ipython3",
   "version": "3.7.1"
  }
 },
 "nbformat": 4,
 "nbformat_minor": 2
}
