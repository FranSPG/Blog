{
 "cells": [
  {
   "cell_type": "code",
   "execution_count": 1,
   "metadata": {},
   "outputs": [],
   "source": [
    "import sys\n",
    "sys.setrecursionlimit(100000000)"
   ]
  },
  {
   "cell_type": "code",
   "execution_count": 2,
   "metadata": {},
   "outputs": [],
   "source": [
    "def fib(n):\n",
    "    if n == 0 or n == 1:\n",
    "        return 1\n",
    "    else:\n",
    "        return fib(n - 1) + fib(n - 2)"
   ]
  },
  {
   "cell_type": "code",
   "execution_count": null,
   "metadata": {},
   "outputs": [
    {
     "name": "stdout",
     "output_type": "stream",
     "text": [
      "fib(0) = 1\n",
      "fib(1) = 1\n",
      "fib(2) = 2\n",
      "fib(3) = 3\n",
      "fib(4) = 5\n",
      "fib(5) = 8\n",
      "fib(6) = 13\n",
      "fib(7) = 21\n",
      "fib(8) = 34\n",
      "fib(9) = 55\n",
      "fib(10) = 89\n",
      "fib(11) = 144\n",
      "fib(12) = 233\n",
      "fib(13) = 377\n",
      "fib(14) = 610\n",
      "fib(15) = 987\n",
      "fib(16) = 1597\n",
      "fib(17) = 2584\n",
      "fib(18) = 4181\n",
      "fib(19) = 6765\n",
      "fib(20) = 10946\n",
      "fib(21) = 17711\n",
      "fib(22) = 28657\n",
      "fib(23) = 46368\n",
      "fib(24) = 75025\n",
      "fib(25) = 121393\n",
      "fib(26) = 196418\n",
      "fib(27) = 317811\n",
      "fib(28) = 514229\n",
      "fib(29) = 832040\n",
      "fib(30) = 1346269\n",
      "fib(31) = 2178309\n",
      "fib(32) = 3524578\n",
      "fib(33) = 5702887\n",
      "fib(34) = 9227465\n",
      "fib(35) = 14930352\n",
      "fib(36) = 24157817\n",
      "fib(37) = 39088169\n",
      "fib(38) = 63245986\n",
      "fib(39) = 102334155\n",
      "fib(40) = 165580141\n",
      "fib(41) = 267914296\n",
      "fib(42) = 433494437\n",
      "fib(43) = 701408733\n",
      "fib(44) = 1134903170\n"
     ]
    }
   ],
   "source": [
    "%%time\n",
    "for i in range(50):\n",
    "    print('fib(' + str(i) + ') =', fib(i))"
   ]
  },
  {
   "cell_type": "code",
   "execution_count": 3,
   "metadata": {},
   "outputs": [],
   "source": [
    "# la función tiene un argumento más que la anterior\n",
    "# memo es el diccionario donde se van a ir guardando las operaciones y su resultado\n",
    "def fastFib(n, memo = {}):\n",
    "    \"\"\"Assumes n is an int >= 0, memo used only by recursive calls\n",
    "       Returns Fibonacci of n\"\"\"\n",
    "    if n == 0 or n == 1:\n",
    "        return 1\n",
    "    try:\n",
    "        # Primero intenta devolver el valor si esta almacenado en el memo\n",
    "        return memo[n]\n",
    "    except KeyError:\n",
    "        # Si no está en memo computa el resultado y lo guarda en el memo\n",
    "        result = fastFib(n-1, memo) + fastFib(n-2, memo)\n",
    "        memo[n] = result\n",
    "        return result"
   ]
  },
  {
   "cell_type": "code",
   "execution_count": 4,
   "metadata": {},
   "outputs": [
    {
     "name": "stdout",
     "output_type": "stream",
     "text": [
      "Wall time: 0 ns\n"
     ]
    },
    {
     "data": {
      "text/plain": [
       "2504730781961"
      ]
     },
     "execution_count": 4,
     "metadata": {},
     "output_type": "execute_result"
    }
   ],
   "source": [
    "%%time\n",
    "fastFib(60)"
   ]
  }
 ],
 "metadata": {
  "kernelspec": {
   "display_name": "Python 3",
   "language": "python",
   "name": "python3"
  },
  "language_info": {
   "codemirror_mode": {
    "name": "ipython",
    "version": 3
   },
   "file_extension": ".py",
   "mimetype": "text/x-python",
   "name": "python",
   "nbconvert_exporter": "python",
   "pygments_lexer": "ipython3",
   "version": "3.7.2"
  }
 },
 "nbformat": 4,
 "nbformat_minor": 2
}
