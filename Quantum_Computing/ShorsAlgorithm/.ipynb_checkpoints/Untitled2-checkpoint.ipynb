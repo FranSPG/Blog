{
 "cells": [
  {
   "cell_type": "code",
   "execution_count": 6,
   "metadata": {},
   "outputs": [
    {
     "ename": "ModuleNotFoundError",
     "evalue": "No module named 'mock'",
     "output_type": "error",
     "traceback": [
      "\u001b[1;31m---------------------------------------------------------------------------\u001b[0m",
      "\u001b[1;31mModuleNotFoundError\u001b[0m                       Traceback (most recent call last)",
      "\u001b[1;32m<ipython-input-6-3c36ff1afa7d>\u001b[0m in \u001b[0;36m<module>\u001b[1;34m()\u001b[0m\n\u001b[0;32m      1\u001b[0m \u001b[1;32mfrom\u001b[0m \u001b[0mitertools\u001b[0m \u001b[1;32mimport\u001b[0m \u001b[0mproduct\u001b[0m\u001b[1;33m\u001b[0m\u001b[0m\n\u001b[0;32m      2\u001b[0m \u001b[1;33m\u001b[0m\u001b[0m\n\u001b[1;32m----> 3\u001b[1;33m \u001b[1;32mfrom\u001b[0m \u001b[0mmock\u001b[0m \u001b[1;32mimport\u001b[0m \u001b[0mpatch\u001b[0m\u001b[1;33m,\u001b[0m \u001b[0mMock\u001b[0m\u001b[1;33m\u001b[0m\u001b[0m\n\u001b[0m\u001b[0;32m      4\u001b[0m \u001b[1;32mfrom\u001b[0m \u001b[0mpyquil\u001b[0m\u001b[1;33m.\u001b[0m\u001b[0mapi\u001b[0m \u001b[1;32mimport\u001b[0m \u001b[0mQuantumComputer\u001b[0m\u001b[1;33m\u001b[0m\u001b[0m\n\u001b[0;32m      5\u001b[0m \u001b[1;33m\u001b[0m\u001b[0m\n",
      "\u001b[1;31mModuleNotFoundError\u001b[0m: No module named 'mock'"
     ]
    }
   ],
   "source": [
    "from itertools import product\n",
    "\n",
    "from mock import patch, Mock\n",
    "from pyquil.api import QuantumComputer\n",
    "\n",
    "from grove.amplification.grover import Grover"
   ]
  },
  {
   "cell_type": "code",
   "execution_count": 5,
   "metadata": {},
   "outputs": [
    {
     "name": "stdout",
     "output_type": "stream",
     "text": [
      "{'000': 1, '001': 1, '010': -1, '011': 1, '100': 1, '101': 1, '110': 1, '111': 1}\n"
     ]
    }
   ],
   "source": [
    "\n",
    "\n",
    "target_bitstring = '010'\n",
    "bit = (\"0\", \"1\")\n",
    "bitstring_map = {}\n",
    "target_bitstring_phase = -1\n",
    "nontarget_bitstring_phase = 1\n",
    "\n",
    "# We construct the bitmap for the oracle\n",
    "for bitstring in product(bit, repeat=len(target_bitstring)):\n",
    "    bitstring = \"\".join(bitstring)\n",
    "    if bitstring == target_bitstring:\n",
    "        bitstring_map[bitstring] = target_bitstring_phase\n",
    "    else:\n",
    "        bitstring_map[bitstring] = nontarget_bitstring_phase\n",
    "\n",
    "\n",
    "print(bitstring_map)"
   ]
  },
  {
   "cell_type": "code",
   "execution_count": 3,
   "metadata": {},
   "outputs": [],
   "source": [
    "\n",
    "\n",
    "target_bitstring_phase = -1\n",
    "nontarget_bitstring_phase = 1\n",
    "for k,v in bitstring_map.items():\n",
    "    if k == target_bitstring:\n",
    "        assert v == target_bitstring_phase, \"The target bitstring has the wrong phase.\"\n",
    "    else:\n",
    "        assert v == nontarget_bitstring_phase, \"A nontarget bistring has the wrong phase.\"\n",
    "\n"
   ]
  },
  {
   "cell_type": "code",
   "execution_count": 4,
   "metadata": {},
   "outputs": [
    {
     "ename": "NameError",
     "evalue": "name 'patch' is not defined",
     "output_type": "error",
     "traceback": [
      "\u001b[1;31m---------------------------------------------------------------------------\u001b[0m",
      "\u001b[1;31mNameError\u001b[0m                                 Traceback (most recent call last)",
      "\u001b[1;32m<ipython-input-4-c8178c32ad51>\u001b[0m in \u001b[0;36m<module>\u001b[1;34m()\u001b[0m\n\u001b[1;32m----> 1\u001b[1;33m \u001b[1;32mwith\u001b[0m \u001b[0mpatch\u001b[0m\u001b[1;33m(\u001b[0m\u001b[1;34m\"pyquil.api.QuantumComputer\"\u001b[0m\u001b[1;33m)\u001b[0m \u001b[1;32mas\u001b[0m \u001b[0mqc\u001b[0m\u001b[1;33m:\u001b[0m\u001b[1;33m\u001b[0m\u001b[0m\n\u001b[0m\u001b[0;32m      2\u001b[0m     \u001b[0mqc\u001b[0m\u001b[1;33m.\u001b[0m\u001b[0mrun\u001b[0m\u001b[1;33m.\u001b[0m\u001b[0mreturn_value\u001b[0m \u001b[1;33m=\u001b[0m \u001b[1;33m[\u001b[0m\u001b[1;33m[\u001b[0m\u001b[0mint\u001b[0m\u001b[1;33m(\u001b[0m\u001b[0mbit\u001b[0m\u001b[1;33m)\u001b[0m \u001b[1;32mfor\u001b[0m \u001b[0mbit\u001b[0m \u001b[1;32min\u001b[0m \u001b[0mtarget_bitstring\u001b[0m\u001b[1;33m]\u001b[0m\u001b[1;33m]\u001b[0m\u001b[1;33m\u001b[0m\u001b[0m\n",
      "\u001b[1;31mNameError\u001b[0m: name 'patch' is not defined"
     ]
    }
   ],
   "source": [
    "#with patch(\"pyquil.api.QuantumComputer\") as qc:\n",
    "#    qc.run.return_value = [[int(bit) for bit in target_bitstring]]"
   ]
  },
  {
   "cell_type": "code",
   "execution_count": null,
   "metadata": {},
   "outputs": [],
   "source": []
  }
 ],
 "metadata": {
  "kernelspec": {
   "display_name": "Python 3",
   "language": "python",
   "name": "python3"
  },
  "language_info": {
   "codemirror_mode": {
    "name": "ipython",
    "version": 3
   },
   "file_extension": ".py",
   "mimetype": "text/x-python",
   "name": "python",
   "nbconvert_exporter": "python",
   "pygments_lexer": "ipython3",
   "version": "3.7.0"
  }
 },
 "nbformat": 4,
 "nbformat_minor": 2
}
