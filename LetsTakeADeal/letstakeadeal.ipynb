{
 "cells": [
  {
   "cell_type": "code",
   "execution_count": 9,
   "metadata": {},
   "outputs": [],
   "source": [
    "import numpy as np"
   ]
  },
  {
   "cell_type": "code",
   "execution_count": 10,
   "metadata": {},
   "outputs": [],
   "source": [
    "def no_change():\n",
    "    \n",
    "    doors = [False, False, False]\n",
    "\n",
    "    doors[np.random.randint(0, 3)] = True\n",
    "\n",
    "    selected_door = np.random.randint(0, 3)\n",
    "    \n",
    "    for x in range(0,3):\n",
    "        \n",
    "        if (doors[x] == True):\n",
    "            winner_door = x\n",
    "        else:\n",
    "            if (x != selected_door):\n",
    "                door_shown = x\n",
    "        \n",
    "    if(winner_door == selected_door):\n",
    "        rst = True\n",
    "    else:\n",
    "        rst = False\n",
    "        \n",
    "    #print(\"Selected door: {}\\t Door shown: {}\\t Winning door: {}\\t Result: {}\\n\".format(selected_door, door_shown, selected_door, rst))\n",
    "    \n",
    "    return rst"
   ]
  },
  {
   "cell_type": "code",
   "execution_count": 11,
   "metadata": {},
   "outputs": [],
   "source": [
    "def change():\n",
    "    \n",
    "    doors = [False, False, False]\n",
    "\n",
    "    doors[np.random.randint(0, 3)] = True\n",
    "\n",
    "    selected_door = np.random.randint(0, 3)\n",
    "    \n",
    "    for x in range(0, 3):\n",
    "        \n",
    "        if (doors[x] == True):\n",
    "            winner_door = x\n",
    "        else:\n",
    "            if (x != selected_door):\n",
    "                door_shown = x\n",
    "    \n",
    "    for x in range(0, 3):\n",
    "        if (x == door_shown):\n",
    "            pass\n",
    "        else:\n",
    "            if(x != selected_door):\n",
    "                new_door = x\n",
    "        \n",
    "        \n",
    "    if(winner_door == new_door):\n",
    "        rst = True\n",
    "    else:\n",
    "        rst = False\n",
    "        \n",
    "    #print(\"Selected door: {}\\t Door shown: {}\\tNew door: {}\\t Winning door: {}\\t Result: {}\\n\".format(selected_door, door_shown, new_door, winner_door, rst))\n",
    "    \n",
    "    return rst"
   ]
  },
  {
   "cell_type": "code",
   "execution_count": 12,
   "metadata": {},
   "outputs": [],
   "source": [
    "b = np.array([])\n",
    "for x in range(100):\n",
    "    a = []\n",
    "    for x in range(200000):\n",
    "        a.append(no_change())\n",
    "    \n",
    "    a = sum(a)\n",
    "    b = np.append(b, a)\n"
   ]
  },
  {
   "cell_type": "code",
   "execution_count": 13,
   "metadata": {},
   "outputs": [],
   "source": [
    "c = np.array([])\n",
    "for x in range(100):\n",
    "    d = []\n",
    "    for x in range(200000):\n",
    "        d.append(change())\n",
    "    \n",
    "    d = sum(d)\n",
    "    c = np.append(c, d)\n"
   ]
  },
  {
   "cell_type": "code",
   "execution_count": 14,
   "metadata": {},
   "outputs": [
    {
     "data": {
      "text/plain": [
       "66719.55"
      ]
     },
     "execution_count": 14,
     "metadata": {},
     "output_type": "execute_result"
    }
   ],
   "source": [
    "np.mean(b)"
   ]
  },
  {
   "cell_type": "code",
   "execution_count": 15,
   "metadata": {},
   "outputs": [
    {
     "data": {
      "text/plain": [
       "133337.85"
      ]
     },
     "execution_count": 15,
     "metadata": {},
     "output_type": "execute_result"
    }
   ],
   "source": [
    "np.mean(c)"
   ]
  },
  {
   "cell_type": "code",
   "execution_count": null,
   "metadata": {},
   "outputs": [],
   "source": []
  }
 ],
 "metadata": {
  "kernelspec": {
   "display_name": "Python 3",
   "language": "python",
   "name": "python3"
  },
  "language_info": {
   "codemirror_mode": {
    "name": "ipython",
    "version": 3
   },
   "file_extension": ".py",
   "mimetype": "text/x-python",
   "name": "python",
   "nbconvert_exporter": "python",
   "pygments_lexer": "ipython3",
   "version": "3.7.0"
  }
 },
 "nbformat": 4,
 "nbformat_minor": 2
}
